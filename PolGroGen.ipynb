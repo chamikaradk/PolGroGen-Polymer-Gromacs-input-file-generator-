{
 "cells": [
  {
   "cell_type": "code",
   "execution_count": 380,
   "metadata": {
    "pycharm": {
     "name": "#%%\n"
    }
   },
   "outputs": [],
   "source": [
    "import pandas as pd\n",
    "import os\n",
    "os.chdir('C:\\\\Users\\\\chami\\\\Desktop\\\\Polymer_params_final\\\\PolGroGen\\\\')\n",
    "pwd=os.getcwd()\n",
    "#pd.set_option(\"display.precision\", 3)\n",
    "#pd.options.display.float_format = '{:.3f}'.format\n",
    "import warnings\n",
    "with warnings.catch_warnings():\n",
    "    warnings.filterwarnings(\"ignore\",category=DeprecationWarning)\n",
    "    import pandas as pd\n",
    "\n",
    "#INPOUTS\n",
    "repeats = 20\n",
    "grofile = 'N2200_relaxed_MDmonomer.gro'\n",
    "outfile = '20mer.gro'\n",
    "X, Y, Z = 1.431, 0.000, 0.000 #dont change for N2200"
   ]
  },
  {
   "cell_type": "code",
   "execution_count": 381,
   "metadata": {
    "pycharm": {
     "name": "#%%\n"
    },
    "scrolled": true
   },
   "outputs": [
    {
     "data": {
      "text/html": [
       "<div>\n",
       "<style scoped>\n",
       "    .dataframe tbody tr th:only-of-type {\n",
       "        vertical-align: middle;\n",
       "    }\n",
       "\n",
       "    .dataframe tbody tr th {\n",
       "        vertical-align: top;\n",
       "    }\n",
       "\n",
       "    .dataframe thead th {\n",
       "        text-align: right;\n",
       "    }\n",
       "</style>\n",
       "<table border=\"1\" class=\"dataframe\">\n",
       "  <thead>\n",
       "    <tr style=\"text-align: right;\">\n",
       "      <th></th>\n",
       "      <th>0</th>\n",
       "      <th>1</th>\n",
       "      <th>2</th>\n",
       "      <th>3</th>\n",
       "      <th>4</th>\n",
       "      <th>5</th>\n",
       "    </tr>\n",
       "  </thead>\n",
       "  <tbody>\n",
       "    <tr>\n",
       "      <th>0</th>\n",
       "      <td>1NDI</td>\n",
       "      <td>H4I</td>\n",
       "      <td>1</td>\n",
       "      <td>0.615</td>\n",
       "      <td>0.642</td>\n",
       "      <td>1.260</td>\n",
       "    </tr>\n",
       "    <tr>\n",
       "      <th>1</th>\n",
       "      <td>1NDI</td>\n",
       "      <td>C01</td>\n",
       "      <td>2</td>\n",
       "      <td>0.722</td>\n",
       "      <td>0.637</td>\n",
       "      <td>1.268</td>\n",
       "    </tr>\n",
       "    <tr>\n",
       "      <th>2</th>\n",
       "      <td>1NDI</td>\n",
       "      <td>S06</td>\n",
       "      <td>3</td>\n",
       "      <td>0.844</td>\n",
       "      <td>0.692</td>\n",
       "      <td>1.160</td>\n",
       "    </tr>\n",
       "    <tr>\n",
       "      <th>3</th>\n",
       "      <td>1NDI</td>\n",
       "      <td>C03</td>\n",
       "      <td>4</td>\n",
       "      <td>0.779</td>\n",
       "      <td>0.578</td>\n",
       "      <td>1.380</td>\n",
       "    </tr>\n",
       "    <tr>\n",
       "      <th>4</th>\n",
       "      <td>1NDI</td>\n",
       "      <td>C04</td>\n",
       "      <td>5</td>\n",
       "      <td>0.972</td>\n",
       "      <td>0.643</td>\n",
       "      <td>1.266</td>\n",
       "    </tr>\n",
       "    <tr>\n",
       "      <th>...</th>\n",
       "      <td>...</td>\n",
       "      <td>...</td>\n",
       "      <td>...</td>\n",
       "      <td>...</td>\n",
       "      <td>...</td>\n",
       "      <td>...</td>\n",
       "    </tr>\n",
       "    <tr>\n",
       "      <th>155</th>\n",
       "      <td>1NDI</td>\n",
       "      <td>H4F</td>\n",
       "      <td>156</td>\n",
       "      <td>0.862</td>\n",
       "      <td>0.710</td>\n",
       "      <td>0.361</td>\n",
       "    </tr>\n",
       "    <tr>\n",
       "      <th>156</th>\n",
       "      <td>1NDI</td>\n",
       "      <td>H4G</td>\n",
       "      <td>157</td>\n",
       "      <td>2.559</td>\n",
       "      <td>0.520</td>\n",
       "      <td>2.229</td>\n",
       "    </tr>\n",
       "    <tr>\n",
       "      <th>157</th>\n",
       "      <td>1NDI</td>\n",
       "      <td>H4H</td>\n",
       "      <td>158</td>\n",
       "      <td>2.675</td>\n",
       "      <td>0.580</td>\n",
       "      <td>2.349</td>\n",
       "    </tr>\n",
       "    <tr>\n",
       "      <th>158</th>\n",
       "      <td>1NDI</td>\n",
       "      <td>H4I</td>\n",
       "      <td>159</td>\n",
       "      <td>2.725</td>\n",
       "      <td>0.458</td>\n",
       "      <td>2.230</td>\n",
       "    </tr>\n",
       "    <tr>\n",
       "      <th>159</th>\n",
       "      <td>1NDI</td>\n",
       "      <td>H4I</td>\n",
       "      <td>160</td>\n",
       "      <td>2.114</td>\n",
       "      <td>0.652</td>\n",
       "      <td>1.264</td>\n",
       "    </tr>\n",
       "  </tbody>\n",
       "</table>\n",
       "<p>160 rows × 6 columns</p>\n",
       "</div>"
      ],
      "text/plain": [
       "        0    1    2      3      4      5\n",
       "0    1NDI  H4I    1  0.615  0.642  1.260\n",
       "1    1NDI  C01    2  0.722  0.637  1.268\n",
       "2    1NDI  S06    3  0.844  0.692  1.160\n",
       "3    1NDI  C03    4  0.779  0.578  1.380\n",
       "4    1NDI  C04    5  0.972  0.643  1.266\n",
       "..    ...  ...  ...    ...    ...    ...\n",
       "155  1NDI  H4F  156  0.862  0.710  0.361\n",
       "156  1NDI  H4G  157  2.559  0.520  2.229\n",
       "157  1NDI  H4H  158  2.675  0.580  2.349\n",
       "158  1NDI  H4I  159  2.725  0.458  2.230\n",
       "159  1NDI  H4I  160  2.114  0.652  1.264\n",
       "\n",
       "[160 rows x 6 columns]"
      ]
     },
     "execution_count": 381,
     "metadata": {},
     "output_type": "execute_result"
    }
   ],
   "source": [
    "with open(grofile, \"r\") as gro:\n",
    "    allines = gro.readlines()\n",
    "grodirective = []\n",
    "gro.close()\n",
    "for line in allines:\n",
    "    grodirective.append(line.split())\n",
    "grodirective_df = pd.DataFrame(grodirective[2:-1]) # skip header lines and\n",
    "grodirective_df"
   ]
  },
  {
   "cell_type": "code",
   "execution_count": 382,
   "metadata": {
    "pycharm": {
     "name": "#%%\n"
    }
   },
   "outputs": [],
   "source": [
    "initmer = grodirective_df.iloc[:-1]"
   ]
  },
  {
   "cell_type": "code",
   "execution_count": 383,
   "metadata": {
    "pycharm": {
     "name": "#%%\n"
    }
   },
   "outputs": [],
   "source": [
    "nonmer = grodirective_df.iloc[1:-1]\n",
    "newnonmer = nonmer.copy()\n",
    "polymer = initmer.copy()"
   ]
  },
  {
   "cell_type": "code",
   "execution_count": 384,
   "metadata": {
    "pycharm": {
     "name": "#%%\n"
    }
   },
   "outputs": [],
   "source": [
    "for i in range(1,repeats-1):\n",
    "    newnonmer.loc[:,3] = nonmer.loc[:,3].astype(float) + X*i\n",
    "    newnonmer.loc[:,4] = nonmer.loc[:,4].astype(float) + Y*i\n",
    "    newnonmer.loc[:,5] = nonmer.loc[:,5].astype(float) + Z*i\n",
    "    polymer = pd.concat([polymer, newnonmer.astype(str)], ignore_index=False)\n",
    "polymer.iloc[:,3:6] = polymer.iloc[:,3:6].astype(float)#"
   ]
  },
  {
   "cell_type": "code",
   "execution_count": 385,
   "metadata": {
    "pycharm": {
     "name": "#%%\n"
    }
   },
   "outputs": [],
   "source": [
    "termer = grodirective_df.iloc[1:]\n",
    "termer.iloc[:,3:6].astype(float) #Z coords\n",
    "termernew = termer.copy()"
   ]
  },
  {
   "cell_type": "code",
   "execution_count": 386,
   "metadata": {
    "pycharm": {
     "name": "#%%\n"
    },
    "scrolled": true
   },
   "outputs": [
    {
     "data": {
      "text/html": [
       "<div>\n",
       "<style scoped>\n",
       "    .dataframe tbody tr th:only-of-type {\n",
       "        vertical-align: middle;\n",
       "    }\n",
       "\n",
       "    .dataframe tbody tr th {\n",
       "        vertical-align: top;\n",
       "    }\n",
       "\n",
       "    .dataframe thead th {\n",
       "        text-align: right;\n",
       "    }\n",
       "</style>\n",
       "<table border=\"1\" class=\"dataframe\">\n",
       "  <thead>\n",
       "    <tr style=\"text-align: right;\">\n",
       "      <th></th>\n",
       "      <th>0</th>\n",
       "      <th>1</th>\n",
       "      <th>2</th>\n",
       "      <th>3</th>\n",
       "      <th>4</th>\n",
       "      <th>5</th>\n",
       "    </tr>\n",
       "  </thead>\n",
       "  <tbody>\n",
       "    <tr>\n",
       "      <th>1</th>\n",
       "      <td>1NDI</td>\n",
       "      <td>C01</td>\n",
       "      <td>2</td>\n",
       "      <td>27.911</td>\n",
       "      <td>0.637</td>\n",
       "      <td>1.268</td>\n",
       "    </tr>\n",
       "    <tr>\n",
       "      <th>2</th>\n",
       "      <td>1NDI</td>\n",
       "      <td>S06</td>\n",
       "      <td>3</td>\n",
       "      <td>28.033</td>\n",
       "      <td>0.692</td>\n",
       "      <td>1.160</td>\n",
       "    </tr>\n",
       "    <tr>\n",
       "      <th>3</th>\n",
       "      <td>1NDI</td>\n",
       "      <td>C03</td>\n",
       "      <td>4</td>\n",
       "      <td>27.968</td>\n",
       "      <td>0.578</td>\n",
       "      <td>1.380</td>\n",
       "    </tr>\n",
       "    <tr>\n",
       "      <th>4</th>\n",
       "      <td>1NDI</td>\n",
       "      <td>C04</td>\n",
       "      <td>5</td>\n",
       "      <td>28.161</td>\n",
       "      <td>0.643</td>\n",
       "      <td>1.266</td>\n",
       "    </tr>\n",
       "    <tr>\n",
       "      <th>5</th>\n",
       "      <td>1NDI</td>\n",
       "      <td>C05</td>\n",
       "      <td>6</td>\n",
       "      <td>28.108</td>\n",
       "      <td>0.581</td>\n",
       "      <td>1.379</td>\n",
       "    </tr>\n",
       "    <tr>\n",
       "      <th>...</th>\n",
       "      <td>...</td>\n",
       "      <td>...</td>\n",
       "      <td>...</td>\n",
       "      <td>...</td>\n",
       "      <td>...</td>\n",
       "      <td>...</td>\n",
       "    </tr>\n",
       "    <tr>\n",
       "      <th>155</th>\n",
       "      <td>1NDI</td>\n",
       "      <td>H4F</td>\n",
       "      <td>156</td>\n",
       "      <td>28.051</td>\n",
       "      <td>0.710</td>\n",
       "      <td>0.361</td>\n",
       "    </tr>\n",
       "    <tr>\n",
       "      <th>156</th>\n",
       "      <td>1NDI</td>\n",
       "      <td>H4G</td>\n",
       "      <td>157</td>\n",
       "      <td>29.748</td>\n",
       "      <td>0.520</td>\n",
       "      <td>2.229</td>\n",
       "    </tr>\n",
       "    <tr>\n",
       "      <th>157</th>\n",
       "      <td>1NDI</td>\n",
       "      <td>H4H</td>\n",
       "      <td>158</td>\n",
       "      <td>29.864</td>\n",
       "      <td>0.580</td>\n",
       "      <td>2.349</td>\n",
       "    </tr>\n",
       "    <tr>\n",
       "      <th>158</th>\n",
       "      <td>1NDI</td>\n",
       "      <td>H4I</td>\n",
       "      <td>159</td>\n",
       "      <td>29.914</td>\n",
       "      <td>0.458</td>\n",
       "      <td>2.230</td>\n",
       "    </tr>\n",
       "    <tr>\n",
       "      <th>159</th>\n",
       "      <td>1NDI</td>\n",
       "      <td>H4I</td>\n",
       "      <td>160</td>\n",
       "      <td>29.303</td>\n",
       "      <td>0.652</td>\n",
       "      <td>1.264</td>\n",
       "    </tr>\n",
       "  </tbody>\n",
       "</table>\n",
       "<p>159 rows × 6 columns</p>\n",
       "</div>"
      ],
      "text/plain": [
       "        0    1    2      3     4     5\n",
       "1    1NDI  C01    2 27.911 0.637 1.268\n",
       "2    1NDI  S06    3 28.033 0.692 1.160\n",
       "3    1NDI  C03    4 27.968 0.578 1.380\n",
       "4    1NDI  C04    5 28.161 0.643 1.266\n",
       "5    1NDI  C05    6 28.108 0.581 1.379\n",
       "..    ...  ...  ...    ...   ...   ...\n",
       "155  1NDI  H4F  156 28.051 0.710 0.361\n",
       "156  1NDI  H4G  157 29.748 0.520 2.229\n",
       "157  1NDI  H4H  158 29.864 0.580 2.349\n",
       "158  1NDI  H4I  159 29.914 0.458 2.230\n",
       "159  1NDI  H4I  160 29.303 0.652 1.264\n",
       "\n",
       "[159 rows x 6 columns]"
      ]
     },
     "execution_count": 386,
     "metadata": {},
     "output_type": "execute_result"
    }
   ],
   "source": [
    "termernew.loc[:,3] = termer.loc[:,3].astype(float) + X*(repeats-1)\n",
    "termernew.iloc[:,4] = termer.iloc[:,4].astype(float) + Y*(repeats-1)\n",
    "termernew.iloc[:,5] = termer.iloc[:,5].astype(float) + Z*(repeats-1)\n",
    "#termernew.columns=[\"a\",\"b\",\"c\",\"d\",\"e\",\"f\"]\n",
    "termernew"
   ]
  },
  {
   "cell_type": "code",
   "execution_count": 387,
   "metadata": {
    "pycharm": {
     "name": "#%%\n"
    },
    "scrolled": true
   },
   "outputs": [],
   "source": [
    "polymer = pd.concat([polymer, termernew], ignore_index=True)\n",
    "polymer.iloc[:,2] = pd.DataFrame([range(1,polymer.shape[0]+1)]).T #fix atom order#\n",
    "polymer.iloc[:,3:6] = polymer.iloc[:,3:6].astype(float)"
   ]
  },
  {
   "cell_type": "code",
   "execution_count": 388,
   "metadata": {
    "pycharm": {
     "name": "#%%\n"
    }
   },
   "outputs": [],
   "source": [
    "grofile = open(outfile, 'w+')  # open file handler for writing\n",
    "print('polymer gro file generated by polyGROgen | ChamikaraK', file=grofile)\n",
    "print('  '+(str(polymer.shape[0])), file=grofile)\n",
    "for i in range(polymer.shape[0]):\n",
    "    coord_string = \"{}{}{}\".format(format(polymer.iloc[i,3],\"8.3f\"), format(polymer.iloc[i,4],\"8.3f\"), format(polymer.iloc[i,5],\"8.3f\"))\n",
    "    site_string = \"{0:>8s}{1:>7s}{2:>5d}{3}\".format(polymer.iloc[i,0], polymer.iloc[i,1], polymer.iloc[i,2],coord_string)\n",
    "    print(site_string, file=grofile)\n",
    "print('   10   10   10', file=grofile)\n",
    "grofile.close()"
   ]
  },
  {
   "cell_type": "code",
   "execution_count": null,
   "metadata": {},
   "outputs": [],
   "source": []
  }
 ],
 "metadata": {
  "kernelspec": {
   "display_name": "Python 3",
   "language": "python",
   "name": "python3"
  },
  "language_info": {
   "codemirror_mode": {
    "name": "ipython",
    "version": 3
   },
   "file_extension": ".py",
   "mimetype": "text/x-python",
   "name": "python",
   "nbconvert_exporter": "python",
   "pygments_lexer": "ipython3",
   "version": "3.8.8"
  }
 },
 "nbformat": 4,
 "nbformat_minor": 1
}
